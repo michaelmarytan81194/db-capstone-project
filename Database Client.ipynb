{
 "cells": [
  {
   "cell_type": "code",
   "execution_count": 1,
   "id": "1704f438-e9e3-461d-aee7-1bd08405cf7c",
   "metadata": {},
   "outputs": [],
   "source": [
    "#1. Import Connection Pool\n",
    "from mysql.connector.pooling import MySQLConnectionPool\n",
    "from mysql.connector import Error"
   ]
  },
  {
   "cell_type": "code",
   "execution_count": 3,
   "id": "66414677-8d47-49a3-856b-be98a9b4ac55",
   "metadata": {},
   "outputs": [],
   "source": [
    "#2: Set up logging info - REMEMBER: dictionary type\n",
    "db_config = {\n",
    "    \"user\":\"root\",\n",
    "    \"password\":\"Norica0789\"\n",
    "}"
   ]
  },
  {
   "cell_type": "code",
   "execution_count": 6,
   "id": "46df0b6a-2f3e-4682-bc6d-f2b1b69836e2",
   "metadata": {},
   "outputs": [
    {
     "name": "stdout",
     "output_type": "stream",
     "text": [
      "Connected with  Python_frontend  having  3  connections\n"
     ]
    }
   ],
   "source": [
    "#3: Build connection pool\n",
    "try:\n",
    "    pool = MySQLConnectionPool(pool_name = \"Python_frontend\", pool_size = 3, **db_config)\n",
    "    print(\"Connected with \", pool.pool_name, \" having \", pool.pool_size, \" connections\")\n",
    "except Error as er:\n",
    "    print(\"Error code\", er.errno)\n",
    "    print(\"Error details:\", er.errmsg)"
   ]
  },
  {
   "cell_type": "code",
   "execution_count": 7,
   "id": "ee8c65c6-465c-417d-9490-a0de70cc6892",
   "metadata": {},
   "outputs": [],
   "source": [
    "#4: Withdraw a connection from pool:\n",
    "connection = pool.get_connection()"
   ]
  },
  {
   "cell_type": "code",
   "execution_count": 30,
   "id": "559e3047-cd5f-49ea-a874-a9e037b397c6",
   "metadata": {},
   "outputs": [],
   "source": [
    "#5: Create cursor\n",
    "cursor = connection.cursor(buffered=True)"
   ]
  },
  {
   "cell_type": "code",
   "execution_count": 9,
   "id": "492822bb-b2ec-49d9-83df-8d0fc70797a1",
   "metadata": {},
   "outputs": [],
   "source": [
    "#6: Use and test database\n",
    "cursor.execute(\"USE little_lemon_db\")"
   ]
  },
  {
   "cell_type": "code",
   "execution_count": 11,
   "id": "b8259a25-5f4c-4383-ae7c-bab775d5823d",
   "metadata": {},
   "outputs": [
    {
     "data": {
      "text/plain": [
       "'little_lemon_db'"
      ]
     },
     "execution_count": 11,
     "metadata": {},
     "output_type": "execute_result"
    }
   ],
   "source": [
    "connection.database"
   ]
  },
  {
   "cell_type": "code",
   "execution_count": 18,
   "id": "a3f6f974-fb1c-4e3d-b12d-62438ea25cdc",
   "metadata": {},
   "outputs": [],
   "source": [
    "#7.1 Week 2_ Task1\n",
    "#Create OrdersView\n",
    "create_OrdersView = \"\"\"\n",
    "CREATE VIEW OrdersView as\n",
    "SELECT OrderID, BillAmount, Quantity FROM orders\n",
    "WHERE Quantity > 2\n",
    "\"\"\"\n",
    "cursor.execute(create_OrdersView)\n",
    "\n"
   ]
  },
  {
   "cell_type": "code",
   "execution_count": 50,
   "id": "5df6d5b0-71cc-4223-ae1d-e98639bfaa96",
   "metadata": {},
   "outputs": [
    {
     "name": "stdout",
     "output_type": "stream",
     "text": [
      "   OrderID  BillAmount  Quantity\n",
      "0        1          86         6\n",
      "1        2          37         4\n",
      "2        3         167         8\n",
      "3        4         238        11\n"
     ]
    }
   ],
   "source": [
    "#7.2 Check result of OrdersView\n",
    "cursor.execute(\"select * from OrdersView\")\n",
    "result = cursor.fetchall()\n",
    "column_df = cursor.column_names\n",
    "import pandas as pd\n",
    "df = pd.DataFrame(result, columns = column_df)\n",
    "print(df)"
   ]
  },
  {
   "cell_type": "code",
   "execution_count": 52,
   "id": "1dd4c632-eb18-4421-a8fa-2aeeb048f319",
   "metadata": {},
   "outputs": [],
   "source": [
    "#8.1 HighOrders\n",
    "view_HighOrders = \"\"\"\n",
    "create view HighOrders as\n",
    "select c.CustomerID, c.FullName, o.OrderID, o.BillAmount, m.Cuisine, i.Name from customers c\n",
    "left join bookings b\n",
    "on c.CustomerID = b.CustomerID\n",
    "left join orders o\n",
    "on b.BookingID = o.BookingID\n",
    "left join menus m\n",
    "on m.MenuID = o.MenuID\n",
    "left join menuitems i\n",
    "on i.ItemID = m.ItemID\n",
    "\"\"\"\n",
    "cursor.execute(view_HighOrders)"
   ]
  },
  {
   "cell_type": "code",
   "execution_count": null,
   "id": "40066e89-dad6-4384-82af-24e1d32cef10",
   "metadata": {},
   "outputs": [],
   "source": []
  }
 ],
 "metadata": {
  "kernelspec": {
   "display_name": "Python 3 (ipykernel)",
   "language": "python",
   "name": "python3"
  },
  "language_info": {
   "codemirror_mode": {
    "name": "ipython",
    "version": 3
   },
   "file_extension": ".py",
   "mimetype": "text/x-python",
   "name": "python",
   "nbconvert_exporter": "python",
   "pygments_lexer": "ipython3",
   "version": "3.10.9"
  }
 },
 "nbformat": 4,
 "nbformat_minor": 5
}
